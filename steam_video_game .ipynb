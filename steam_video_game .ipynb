{
 "cells": [
  {
   "cell_type": "markdown",
   "metadata": {
    "id": "WHwPI3DlzBpJ"
   },
   "source": [
    "# STEAM VIDEO GAMES RECOMMENDATION SYSTEM\n",
    "\n",
    "we need to recommend the similar games to the user based on their behaviour"
   ]
  },
  {
   "cell_type": "markdown",
   "metadata": {
    "id": "zcySz1hYzkSm"
   },
   "source": [
    "#About dataset\n",
    "This dataset is a list of user behaviors, with columns: user-id, game-title, behavior-name, value. The behaviors included are 'purchase' and 'play'. The value indicates the degree to which the behavior was performed - in the case of 'purchase' the value is always 1, and in the case of 'play' the value represents the number of hours the user has played the game.\n",
    "\n",
    "steam-200k - (199999, 5)"
   ]
  },
  {
   "cell_type": "markdown",
   "metadata": {
    "id": "7QXgFO_Zzsj6"
   },
   "source": [
    "# Columns in dataset\n",
    "user-id\n",
    "\n",
    "game-title\n",
    "\n",
    "behavior-name\n",
    "\n",
    "value\n",
    "\n",
    "0"
   ]
  },
  {
   "cell_type": "code",
   "execution_count": 1,
   "metadata": {
    "id": "UxedlBqLZiew"
   },
   "outputs": [],
   "source": [
    "# import all necessary libraries\n",
    "import pandas as pd\n",
    "import numpy as np\n",
    "import seaborn as sns\n",
    "# import cosine similarity\n",
    "from sklearn.metrics.pairwise import cosine_similarity"
   ]
  },
  {
   "cell_type": "code",
   "execution_count": 3,
   "metadata": {
    "colab": {
     "base_uri": "https://localhost:8080/",
     "height": 206
    },
    "id": "0YPYDltXZidl",
    "outputId": "cecb37c4-939f-4edc-9e44-ab9f0cf61731"
   },
   "outputs": [
    {
     "data": {
      "text/html": [
       "<div>\n",
       "<style scoped>\n",
       "    .dataframe tbody tr th:only-of-type {\n",
       "        vertical-align: middle;\n",
       "    }\n",
       "\n",
       "    .dataframe tbody tr th {\n",
       "        vertical-align: top;\n",
       "    }\n",
       "\n",
       "    .dataframe thead th {\n",
       "        text-align: right;\n",
       "    }\n",
       "</style>\n",
       "<table border=\"1\" class=\"dataframe\">\n",
       "  <thead>\n",
       "    <tr style=\"text-align: right;\">\n",
       "      <th></th>\n",
       "      <th>151603712</th>\n",
       "      <th>The Elder Scrolls V Skyrim</th>\n",
       "      <th>purchase</th>\n",
       "      <th>1.0</th>\n",
       "      <th>0</th>\n",
       "    </tr>\n",
       "  </thead>\n",
       "  <tbody>\n",
       "    <tr>\n",
       "      <th>0</th>\n",
       "      <td>151603712</td>\n",
       "      <td>The Elder Scrolls V Skyrim</td>\n",
       "      <td>play</td>\n",
       "      <td>273.0</td>\n",
       "      <td>0</td>\n",
       "    </tr>\n",
       "    <tr>\n",
       "      <th>1</th>\n",
       "      <td>151603712</td>\n",
       "      <td>Fallout 4</td>\n",
       "      <td>purchase</td>\n",
       "      <td>1.0</td>\n",
       "      <td>0</td>\n",
       "    </tr>\n",
       "    <tr>\n",
       "      <th>2</th>\n",
       "      <td>151603712</td>\n",
       "      <td>Fallout 4</td>\n",
       "      <td>play</td>\n",
       "      <td>87.0</td>\n",
       "      <td>0</td>\n",
       "    </tr>\n",
       "    <tr>\n",
       "      <th>3</th>\n",
       "      <td>151603712</td>\n",
       "      <td>Spore</td>\n",
       "      <td>purchase</td>\n",
       "      <td>1.0</td>\n",
       "      <td>0</td>\n",
       "    </tr>\n",
       "    <tr>\n",
       "      <th>4</th>\n",
       "      <td>151603712</td>\n",
       "      <td>Spore</td>\n",
       "      <td>play</td>\n",
       "      <td>14.9</td>\n",
       "      <td>0</td>\n",
       "    </tr>\n",
       "    <tr>\n",
       "      <th>...</th>\n",
       "      <td>...</td>\n",
       "      <td>...</td>\n",
       "      <td>...</td>\n",
       "      <td>...</td>\n",
       "      <td>...</td>\n",
       "    </tr>\n",
       "    <tr>\n",
       "      <th>199994</th>\n",
       "      <td>128470551</td>\n",
       "      <td>Titan Souls</td>\n",
       "      <td>play</td>\n",
       "      <td>1.5</td>\n",
       "      <td>0</td>\n",
       "    </tr>\n",
       "    <tr>\n",
       "      <th>199995</th>\n",
       "      <td>128470551</td>\n",
       "      <td>Grand Theft Auto Vice City</td>\n",
       "      <td>purchase</td>\n",
       "      <td>1.0</td>\n",
       "      <td>0</td>\n",
       "    </tr>\n",
       "    <tr>\n",
       "      <th>199996</th>\n",
       "      <td>128470551</td>\n",
       "      <td>Grand Theft Auto Vice City</td>\n",
       "      <td>play</td>\n",
       "      <td>1.5</td>\n",
       "      <td>0</td>\n",
       "    </tr>\n",
       "    <tr>\n",
       "      <th>199997</th>\n",
       "      <td>128470551</td>\n",
       "      <td>RUSH</td>\n",
       "      <td>purchase</td>\n",
       "      <td>1.0</td>\n",
       "      <td>0</td>\n",
       "    </tr>\n",
       "    <tr>\n",
       "      <th>199998</th>\n",
       "      <td>128470551</td>\n",
       "      <td>RUSH</td>\n",
       "      <td>play</td>\n",
       "      <td>1.4</td>\n",
       "      <td>0</td>\n",
       "    </tr>\n",
       "  </tbody>\n",
       "</table>\n",
       "<p>199999 rows × 5 columns</p>\n",
       "</div>"
      ],
      "text/plain": [
       "        151603712  The Elder Scrolls V Skyrim  purchase    1.0  0\n",
       "0       151603712  The Elder Scrolls V Skyrim      play  273.0  0\n",
       "1       151603712                   Fallout 4  purchase    1.0  0\n",
       "2       151603712                   Fallout 4      play   87.0  0\n",
       "3       151603712                       Spore  purchase    1.0  0\n",
       "4       151603712                       Spore      play   14.9  0\n",
       "...           ...                         ...       ...    ... ..\n",
       "199994  128470551                 Titan Souls      play    1.5  0\n",
       "199995  128470551  Grand Theft Auto Vice City  purchase    1.0  0\n",
       "199996  128470551  Grand Theft Auto Vice City      play    1.5  0\n",
       "199997  128470551                        RUSH  purchase    1.0  0\n",
       "199998  128470551                        RUSH      play    1.4  0\n",
       "\n",
       "[199999 rows x 5 columns]"
      ]
     },
     "execution_count": 3,
     "metadata": {},
     "output_type": "execute_result"
    }
   ],
   "source": [
    "# Read csv file using pandas\n",
    "data=pd.read_csv('steam-200k.csv')\n",
    "data"
   ]
  },
  {
   "cell_type": "markdown",
   "metadata": {
    "id": "h8Uu6HJ3viSr"
   },
   "source": [
    "# EDA"
   ]
  },
  {
   "cell_type": "code",
   "execution_count": 4,
   "metadata": {
    "colab": {
     "base_uri": "https://localhost:8080/",
     "height": 423
    },
    "id": "WCPhWXucZiaf",
    "outputId": "c2fc2e0e-30b0-4efd-9922-33504b40bf8b"
   },
   "outputs": [
    {
     "data": {
      "text/html": [
       "<div>\n",
       "<style scoped>\n",
       "    .dataframe tbody tr th:only-of-type {\n",
       "        vertical-align: middle;\n",
       "    }\n",
       "\n",
       "    .dataframe tbody tr th {\n",
       "        vertical-align: top;\n",
       "    }\n",
       "\n",
       "    .dataframe thead th {\n",
       "        text-align: right;\n",
       "    }\n",
       "</style>\n",
       "<table border=\"1\" class=\"dataframe\">\n",
       "  <thead>\n",
       "    <tr style=\"text-align: right;\">\n",
       "      <th></th>\n",
       "      <th>User_ID</th>\n",
       "      <th>games</th>\n",
       "      <th>Status</th>\n",
       "      <th>Hoursplay</th>\n",
       "      <th>0</th>\n",
       "    </tr>\n",
       "  </thead>\n",
       "  <tbody>\n",
       "    <tr>\n",
       "      <th>0</th>\n",
       "      <td>151603712</td>\n",
       "      <td>The Elder Scrolls V Skyrim</td>\n",
       "      <td>play</td>\n",
       "      <td>273.0</td>\n",
       "      <td>0</td>\n",
       "    </tr>\n",
       "    <tr>\n",
       "      <th>1</th>\n",
       "      <td>151603712</td>\n",
       "      <td>Fallout 4</td>\n",
       "      <td>purchase</td>\n",
       "      <td>1.0</td>\n",
       "      <td>0</td>\n",
       "    </tr>\n",
       "    <tr>\n",
       "      <th>2</th>\n",
       "      <td>151603712</td>\n",
       "      <td>Fallout 4</td>\n",
       "      <td>play</td>\n",
       "      <td>87.0</td>\n",
       "      <td>0</td>\n",
       "    </tr>\n",
       "    <tr>\n",
       "      <th>3</th>\n",
       "      <td>151603712</td>\n",
       "      <td>Spore</td>\n",
       "      <td>purchase</td>\n",
       "      <td>1.0</td>\n",
       "      <td>0</td>\n",
       "    </tr>\n",
       "    <tr>\n",
       "      <th>4</th>\n",
       "      <td>151603712</td>\n",
       "      <td>Spore</td>\n",
       "      <td>play</td>\n",
       "      <td>14.9</td>\n",
       "      <td>0</td>\n",
       "    </tr>\n",
       "    <tr>\n",
       "      <th>...</th>\n",
       "      <td>...</td>\n",
       "      <td>...</td>\n",
       "      <td>...</td>\n",
       "      <td>...</td>\n",
       "      <td>...</td>\n",
       "    </tr>\n",
       "    <tr>\n",
       "      <th>199994</th>\n",
       "      <td>128470551</td>\n",
       "      <td>Titan Souls</td>\n",
       "      <td>play</td>\n",
       "      <td>1.5</td>\n",
       "      <td>0</td>\n",
       "    </tr>\n",
       "    <tr>\n",
       "      <th>199995</th>\n",
       "      <td>128470551</td>\n",
       "      <td>Grand Theft Auto Vice City</td>\n",
       "      <td>purchase</td>\n",
       "      <td>1.0</td>\n",
       "      <td>0</td>\n",
       "    </tr>\n",
       "    <tr>\n",
       "      <th>199996</th>\n",
       "      <td>128470551</td>\n",
       "      <td>Grand Theft Auto Vice City</td>\n",
       "      <td>play</td>\n",
       "      <td>1.5</td>\n",
       "      <td>0</td>\n",
       "    </tr>\n",
       "    <tr>\n",
       "      <th>199997</th>\n",
       "      <td>128470551</td>\n",
       "      <td>RUSH</td>\n",
       "      <td>purchase</td>\n",
       "      <td>1.0</td>\n",
       "      <td>0</td>\n",
       "    </tr>\n",
       "    <tr>\n",
       "      <th>199998</th>\n",
       "      <td>128470551</td>\n",
       "      <td>RUSH</td>\n",
       "      <td>play</td>\n",
       "      <td>1.4</td>\n",
       "      <td>0</td>\n",
       "    </tr>\n",
       "  </tbody>\n",
       "</table>\n",
       "<p>199999 rows × 5 columns</p>\n",
       "</div>"
      ],
      "text/plain": [
       "          User_ID                       games    Status  Hoursplay  0\n",
       "0       151603712  The Elder Scrolls V Skyrim      play      273.0  0\n",
       "1       151603712                   Fallout 4  purchase        1.0  0\n",
       "2       151603712                   Fallout 4      play       87.0  0\n",
       "3       151603712                       Spore  purchase        1.0  0\n",
       "4       151603712                       Spore      play       14.9  0\n",
       "...           ...                         ...       ...        ... ..\n",
       "199994  128470551                 Titan Souls      play        1.5  0\n",
       "199995  128470551  Grand Theft Auto Vice City  purchase        1.0  0\n",
       "199996  128470551  Grand Theft Auto Vice City      play        1.5  0\n",
       "199997  128470551                        RUSH  purchase        1.0  0\n",
       "199998  128470551                        RUSH      play        1.4  0\n",
       "\n",
       "[199999 rows x 5 columns]"
      ]
     },
     "execution_count": 4,
     "metadata": {},
     "output_type": "execute_result"
    }
   ],
   "source": [
    "# remane the column name as games user_id, hoursplay and status\n",
    "data=data.rename(columns={'The Elder Scrolls V Skyrim':'games'})\n",
    "data=data.rename(columns={'purchase':'Status'})\n",
    "data=data.rename(columns={'1.0':'Hoursplay'})\n",
    "data=data.rename(columns={'151603712':'User_ID'})\n",
    "data"
   ]
  },
  {
   "cell_type": "code",
   "execution_count": 5,
   "metadata": {
    "colab": {
     "base_uri": "https://localhost:8080/",
     "height": 206
    },
    "id": "FjXsB0ixZiZb",
    "outputId": "d5fe58e2-968b-4f62-b343-29be3b5f1f05"
   },
   "outputs": [
    {
     "data": {
      "text/html": [
       "<div>\n",
       "<style scoped>\n",
       "    .dataframe tbody tr th:only-of-type {\n",
       "        vertical-align: middle;\n",
       "    }\n",
       "\n",
       "    .dataframe tbody tr th {\n",
       "        vertical-align: top;\n",
       "    }\n",
       "\n",
       "    .dataframe thead th {\n",
       "        text-align: right;\n",
       "    }\n",
       "</style>\n",
       "<table border=\"1\" class=\"dataframe\">\n",
       "  <thead>\n",
       "    <tr style=\"text-align: right;\">\n",
       "      <th></th>\n",
       "      <th>User_ID</th>\n",
       "      <th>games</th>\n",
       "      <th>Status</th>\n",
       "      <th>Hoursplay</th>\n",
       "    </tr>\n",
       "  </thead>\n",
       "  <tbody>\n",
       "    <tr>\n",
       "      <th>0</th>\n",
       "      <td>151603712</td>\n",
       "      <td>The Elder Scrolls V Skyrim</td>\n",
       "      <td>play</td>\n",
       "      <td>273.0</td>\n",
       "    </tr>\n",
       "    <tr>\n",
       "      <th>1</th>\n",
       "      <td>151603712</td>\n",
       "      <td>Fallout 4</td>\n",
       "      <td>purchase</td>\n",
       "      <td>1.0</td>\n",
       "    </tr>\n",
       "    <tr>\n",
       "      <th>2</th>\n",
       "      <td>151603712</td>\n",
       "      <td>Fallout 4</td>\n",
       "      <td>play</td>\n",
       "      <td>87.0</td>\n",
       "    </tr>\n",
       "    <tr>\n",
       "      <th>3</th>\n",
       "      <td>151603712</td>\n",
       "      <td>Spore</td>\n",
       "      <td>purchase</td>\n",
       "      <td>1.0</td>\n",
       "    </tr>\n",
       "    <tr>\n",
       "      <th>4</th>\n",
       "      <td>151603712</td>\n",
       "      <td>Spore</td>\n",
       "      <td>play</td>\n",
       "      <td>14.9</td>\n",
       "    </tr>\n",
       "  </tbody>\n",
       "</table>\n",
       "</div>"
      ],
      "text/plain": [
       "     User_ID                       games    Status  Hoursplay\n",
       "0  151603712  The Elder Scrolls V Skyrim      play      273.0\n",
       "1  151603712                   Fallout 4  purchase        1.0\n",
       "2  151603712                   Fallout 4      play       87.0\n",
       "3  151603712                       Spore  purchase        1.0\n",
       "4  151603712                       Spore      play       14.9"
      ]
     },
     "execution_count": 5,
     "metadata": {},
     "output_type": "execute_result"
    }
   ],
   "source": [
    "#drop 0 column\n",
    "data=data.drop(columns=['0'])\n",
    "data.head()"
   ]
  },
  {
   "cell_type": "code",
   "execution_count": 6,
   "metadata": {
    "id": "QeH3M09xJCC-"
   },
   "outputs": [],
   "source": [
    "#drop duplicate user_id and games keep the last one\n",
    "data=data.drop_duplicates(['User_ID','games'],keep='last')"
   ]
  },
  {
   "cell_type": "code",
   "execution_count": 7,
   "metadata": {
    "colab": {
     "base_uri": "https://localhost:8080/"
    },
    "id": "GKdK4DCiv9k8",
    "outputId": "16f7a409-70f9-403a-e4ac-ca90ba6a73f3"
   },
   "outputs": [
    {
     "data": {
      "text/plain": [
       "(128804, 4)"
      ]
     },
     "execution_count": 7,
     "metadata": {},
     "output_type": "execute_result"
    }
   ],
   "source": [
    "#check the shape of the dataset\n",
    "data.shape"
   ]
  },
  {
   "cell_type": "code",
   "execution_count": 8,
   "metadata": {
    "colab": {
     "base_uri": "https://localhost:8080/"
    },
    "id": "cFWsJSFav9jQ",
    "outputId": "579b3f6d-366f-445f-9593-8c972183f01d"
   },
   "outputs": [
    {
     "data": {
      "text/plain": [
       "Index(['User_ID', 'games', 'Status', 'Hoursplay'], dtype='object')"
      ]
     },
     "execution_count": 8,
     "metadata": {},
     "output_type": "execute_result"
    }
   ],
   "source": [
    "#check columns of the dataset\n",
    "data.columns"
   ]
  },
  {
   "cell_type": "code",
   "execution_count": 9,
   "metadata": {
    "colab": {
     "base_uri": "https://localhost:8080/"
    },
    "id": "cfmQuScuv9gu",
    "outputId": "c0bb323b-a610-40ef-c4f6-1cf46812fa23"
   },
   "outputs": [
    {
     "name": "stdout",
     "output_type": "stream",
     "text": [
      "<class 'pandas.core.frame.DataFrame'>\n",
      "Int64Index: 128804 entries, 0 to 199998\n",
      "Data columns (total 4 columns):\n",
      " #   Column     Non-Null Count   Dtype  \n",
      "---  ------     --------------   -----  \n",
      " 0   User_ID    128804 non-null  int64  \n",
      " 1   games      128804 non-null  object \n",
      " 2   Status     128804 non-null  object \n",
      " 3   Hoursplay  128804 non-null  float64\n",
      "dtypes: float64(1), int64(1), object(2)\n",
      "memory usage: 4.9+ MB\n"
     ]
    }
   ],
   "source": [
    "# Check which columns are having categorical, numerical or boolean values of dataset\n",
    "data.info()"
   ]
  },
  {
   "cell_type": "code",
   "execution_count": 10,
   "metadata": {
    "colab": {
     "base_uri": "https://localhost:8080/"
    },
    "id": "4SAr4k5Wv9eS",
    "outputId": "d426082e-6977-462f-deed-14febbe7a89f"
   },
   "outputs": [
    {
     "data": {
      "text/plain": [
       "User_ID      0\n",
       "games        0\n",
       "Status       0\n",
       "Hoursplay    0\n",
       "dtype: int64"
      ]
     },
     "execution_count": 10,
     "metadata": {},
     "output_type": "execute_result"
    }
   ],
   "source": [
    "# Check for missing values in all the columnns of the train_dataset\n",
    "data.isnull().sum()"
   ]
  },
  {
   "cell_type": "code",
   "execution_count": 11,
   "metadata": {
    "colab": {
     "base_uri": "https://localhost:8080/"
    },
    "id": "fGOiyPTkv9cC",
    "outputId": "8e79cfab-684e-4946-9009-eec50c229583"
   },
   "outputs": [
    {
     "data": {
      "text/plain": [
       "Dota 2                              4841\n",
       "Team Fortress 2                     2323\n",
       "Unturned                            1563\n",
       "Counter-Strike Global Offensive     1412\n",
       "Half-Life 2 Lost Coast               981\n",
       "                                    ... \n",
       "iBomber Attack                         1\n",
       "The Dreamatorium of Dr. Magnus 2       1\n",
       "Verde Station                          1\n",
       "TRIP Steam Edition                     1\n",
       "Executive Assault                      1\n",
       "Name: games, Length: 5155, dtype: int64"
      ]
     },
     "execution_count": 11,
     "metadata": {},
     "output_type": "execute_result"
    }
   ],
   "source": [
    "# get how many unique values are in games column of dataset\n",
    "data['games'].value_counts()"
   ]
  },
  {
   "cell_type": "code",
   "execution_count": 13,
   "metadata": {
    "colab": {
     "base_uri": "https://localhost:8080/"
    },
    "id": "QgE7Fw_Nv9aA",
    "outputId": "e6fe27be-2d96-4b89-b7f9-8211783d2f43"
   },
   "outputs": [
    {
     "data": {
      "text/plain": [
       "Status\n",
       "play        70205\n",
       "purchase    58599\n",
       "Name: Status, dtype: int64"
      ]
     },
     "execution_count": 13,
     "metadata": {},
     "output_type": "execute_result"
    }
   ],
   "source": [
    "# get the total count of play and total count of purchase\n",
    "total_purchase=data.groupby('Status')['Status'].agg('count')\n",
    "total_purchase"
   ]
  },
  {
   "cell_type": "code",
   "execution_count": 14,
   "metadata": {
    "colab": {
     "base_uri": "https://localhost:8080/",
     "height": 297
    },
    "id": "1VxaHrDfv9Wo",
    "outputId": "065ab338-92b6-44f5-b1f4-9c027d84cf80"
   },
   "outputs": [
    {
     "data": {
      "text/html": [
       "<div>\n",
       "<style scoped>\n",
       "    .dataframe tbody tr th:only-of-type {\n",
       "        vertical-align: middle;\n",
       "    }\n",
       "\n",
       "    .dataframe tbody tr th {\n",
       "        vertical-align: top;\n",
       "    }\n",
       "\n",
       "    .dataframe thead th {\n",
       "        text-align: right;\n",
       "    }\n",
       "</style>\n",
       "<table border=\"1\" class=\"dataframe\">\n",
       "  <thead>\n",
       "    <tr style=\"text-align: right;\">\n",
       "      <th></th>\n",
       "      <th>User_ID</th>\n",
       "      <th>Hoursplay</th>\n",
       "    </tr>\n",
       "  </thead>\n",
       "  <tbody>\n",
       "    <tr>\n",
       "      <th>count</th>\n",
       "      <td>1.288040e+05</td>\n",
       "      <td>128804.000000</td>\n",
       "    </tr>\n",
       "    <tr>\n",
       "      <th>mean</th>\n",
       "      <td>1.025343e+08</td>\n",
       "      <td>27.150648</td>\n",
       "    </tr>\n",
       "    <tr>\n",
       "      <th>std</th>\n",
       "      <td>7.242875e+07</td>\n",
       "      <td>171.276192</td>\n",
       "    </tr>\n",
       "    <tr>\n",
       "      <th>min</th>\n",
       "      <td>5.250000e+03</td>\n",
       "      <td>0.100000</td>\n",
       "    </tr>\n",
       "    <tr>\n",
       "      <th>25%</th>\n",
       "      <td>4.559264e+07</td>\n",
       "      <td>1.000000</td>\n",
       "    </tr>\n",
       "    <tr>\n",
       "      <th>50%</th>\n",
       "      <td>8.605570e+07</td>\n",
       "      <td>1.000000</td>\n",
       "    </tr>\n",
       "    <tr>\n",
       "      <th>75%</th>\n",
       "      <td>1.542307e+08</td>\n",
       "      <td>5.700000</td>\n",
       "    </tr>\n",
       "    <tr>\n",
       "      <th>max</th>\n",
       "      <td>3.099031e+08</td>\n",
       "      <td>11754.000000</td>\n",
       "    </tr>\n",
       "  </tbody>\n",
       "</table>\n",
       "</div>"
      ],
      "text/plain": [
       "            User_ID      Hoursplay\n",
       "count  1.288040e+05  128804.000000\n",
       "mean   1.025343e+08      27.150648\n",
       "std    7.242875e+07     171.276192\n",
       "min    5.250000e+03       0.100000\n",
       "25%    4.559264e+07       1.000000\n",
       "50%    8.605570e+07       1.000000\n",
       "75%    1.542307e+08       5.700000\n",
       "max    3.099031e+08   11754.000000"
      ]
     },
     "execution_count": 14,
     "metadata": {},
     "output_type": "execute_result"
    }
   ],
   "source": [
    "# For more information on the dataset like the total count in all the columns\n",
    "# min, max values and more information of the respective columns  \n",
    "data.describe()"
   ]
  },
  {
   "cell_type": "markdown",
   "metadata": {
    "id": "3CgbroNkKA5F"
   },
   "source": [
    "## visualizing data"
   ]
  },
  {
   "cell_type": "code",
   "execution_count": 17,
   "metadata": {
    "colab": {
     "base_uri": "https://localhost:8080/",
     "height": 565
    },
    "id": "5OuxsDTIv9VK",
    "outputId": "9b3b61f3-4ee4-4d40-fc38-8beecda3ea09"
   },
   "outputs": [
    {
     "data": {
      "text/plain": [
       "array([[<AxesSubplot: title={'center': 'User_ID'}>,\n",
       "        <AxesSubplot: title={'center': 'Hoursplay'}>]], dtype=object)"
      ]
     },
     "execution_count": 17,
     "metadata": {},
     "output_type": "execute_result"
    },
    {
     "data": {
      "image/png": "[encoded data removed]",
      "text/plain": [
       "<Figure size 800x300 with 2 Axes>"
      ]
     },
     "metadata": {},
     "output_type": "display_data"
    }
   ],
   "source": [
    "# Histogram using pandas \n",
    "data.hist(figsize=(8,3))"
   ]
  },
  {
   "cell_type": "code",
   "execution_count": 22,
   "metadata": {
    "colab": {
     "base_uri": "https://localhost:8080/",
     "height": 281
    },
    "id": "8XQcDkwiv9Rx",
    "outputId": "95b94297-5636-4eef-d131-0c45157a73d7"
   },
   "outputs": [
    {
     "data": {
      "text/plain": [
       "Text(0.5, 1.0, 'Status column frequency')"
      ]
     },
     "execution_count": 22,
     "metadata": {},
     "output_type": "execute_result"
    },
    {
     "data": {
      "image/png": "[encoded data removed]",
      "text/plain": [
       "<Figure size 800x400 with 1 Axes>"
      ]
     },
     "metadata": {},
     "output_type": "display_data"
    }
   ],
   "source": [
    "# plot a horizontal bar plot of column status\n",
    "data['Status'].value_counts().plot.barh(figsize=(8,4)).set_title('Status column frequency')\n"
   ]
  },
  {
   "cell_type": "code",
   "execution_count": 19,
   "metadata": {
    "colab": {
     "base_uri": "https://localhost:8080/",
     "height": 283
    },
    "id": "o45Z0Ngav9Mt",
    "outputId": "0e5c4971-b28c-4b4b-f738-37c68cfb116f"
   },
   "outputs": [
    {
     "data": {
      "text/plain": [
       "<AxesSubplot: >"
      ]
     },
     "execution_count": 19,
     "metadata": {},
     "output_type": "execute_result"
    },
    {
     "data": {
      "image/png": "[encoded data removed]",
      "text/plain": [
       "<Figure size 640x480 with 1 Axes>"
      ]
     },
     "metadata": {},
     "output_type": "display_data"
    }
   ],
   "source": [
    "#plot a count plot of hoursplay column\n",
    "data['Hoursplay'].plot()"
   ]
  },
  {
   "cell_type": "code",
   "execution_count": 21,
   "metadata": {
    "colab": {
     "base_uri": "https://localhost:8080/",
     "height": 338
    },
    "id": "e2ddFJDbv9La",
    "outputId": "f01df9ee-98f4-4dff-aa9c-c72c23f41cab"
   },
   "outputs": [
    {
     "data": {
      "text/plain": [
       "<AxesSubplot: >"
      ]
     },
     "execution_count": 21,
     "metadata": {},
     "output_type": "execute_result"
    },
    {
     "data": {
      "image/png": "[encoded data removed]",
      "text/plain": [
       "<Figure size 800x500 with 1 Axes>"
      ]
     },
     "metadata": {},
     "output_type": "display_data"
    }
   ],
   "source": [
    "# plot a horizontal bar plot of games column for top 30 games\n",
    "data['games'].value_counts().head(30).plot(kind='barh',figsize=(8,5))"
   ]
  },
  {
   "cell_type": "code",
   "execution_count": 23,
   "metadata": {
    "colab": {
     "base_uri": "https://localhost:8080/",
     "height": 297
    },
    "id": "eZUuyLejv9IQ",
    "outputId": "37257f4a-7222-4fe9-8295-55d98f701eed"
   },
   "outputs": [
    {
     "data": {
      "text/plain": [
       "<AxesSubplot: xlabel='Status', ylabel='Hoursplay'>"
      ]
     },
     "execution_count": 23,
     "metadata": {},
     "output_type": "execute_result"
    },
    {
     "data": {
      "image/png": "[encoded data removed]",
      "text/plain": [
       "<Figure size 640x480 with 1 Axes>"
      ]
     },
     "metadata": {},
     "output_type": "display_data"
    }
   ],
   "source": [
    "# plot a boxplot of status as x-axis and hoursplay as y-axis\n",
    "sns.boxplot(x='Status',y='Hoursplay',data=data,palette='rainbow')"
   ]
  },
  {
   "cell_type": "markdown",
   "metadata": {
    "id": "oLP2qFAMvcK8"
   },
   "source": [
    "# converting hours to rating"
   ]
  },
  {
   "cell_type": "code",
   "execution_count": 24,
   "metadata": {
    "colab": {
     "base_uri": "https://localhost:8080/",
     "height": 527
    },
    "id": "eiGi1BNMZiT2",
    "outputId": "583a5f9a-7579-4565-8ba2-deb933b20826"
   },
   "outputs": [
    {
     "name": "stderr",
     "output_type": "stream",
     "text": [
      "C:\\Users\\HP\\AppData\\Local\\Temp\\ipykernel_10112\\1469602157.py:6: SettingWithCopyWarning: \n",
      "A value is trying to be set on a copy of a slice from a DataFrame.\n",
      "Try using .loc[row_indexer,col_indexer] = value instead\n",
      "\n",
      "See the caveats in the documentation: https://pandas.pydata.org/pandas-docs/stable/user_guide/indexing.html#returning-a-view-versus-a-copy\n",
      "  data_filtered['User_ID']=data_filtered['User_ID'].astype(str)\n"
     ]
    },
    {
     "data": {
      "text/html": [
       "<div>\n",
       "<style scoped>\n",
       "    .dataframe tbody tr th:only-of-type {\n",
       "        vertical-align: middle;\n",
       "    }\n",
       "\n",
       "    .dataframe tbody tr th {\n",
       "        vertical-align: top;\n",
       "    }\n",
       "\n",
       "    .dataframe thead th {\n",
       "        text-align: right;\n",
       "    }\n",
       "</style>\n",
       "<table border=\"1\" class=\"dataframe\">\n",
       "  <thead>\n",
       "    <tr style=\"text-align: right;\">\n",
       "      <th></th>\n",
       "      <th>User_ID</th>\n",
       "      <th>games</th>\n",
       "      <th>Status</th>\n",
       "      <th>Hoursplay</th>\n",
       "      <th>avg_Hoursplay</th>\n",
       "      <th>rating</th>\n",
       "    </tr>\n",
       "  </thead>\n",
       "  <tbody>\n",
       "    <tr>\n",
       "      <th>0</th>\n",
       "      <td>151603712</td>\n",
       "      <td>The Elder Scrolls V Skyrim</td>\n",
       "      <td>play</td>\n",
       "      <td>273.0</td>\n",
       "      <td>115.351792</td>\n",
       "      <td>5</td>\n",
       "    </tr>\n",
       "    <tr>\n",
       "      <th>1</th>\n",
       "      <td>59945701</td>\n",
       "      <td>The Elder Scrolls V Skyrim</td>\n",
       "      <td>play</td>\n",
       "      <td>58.0</td>\n",
       "      <td>115.351792</td>\n",
       "      <td>3</td>\n",
       "    </tr>\n",
       "    <tr>\n",
       "      <th>2</th>\n",
       "      <td>92107940</td>\n",
       "      <td>The Elder Scrolls V Skyrim</td>\n",
       "      <td>play</td>\n",
       "      <td>110.0</td>\n",
       "      <td>115.351792</td>\n",
       "      <td>5</td>\n",
       "    </tr>\n",
       "    <tr>\n",
       "      <th>3</th>\n",
       "      <td>250006052</td>\n",
       "      <td>The Elder Scrolls V Skyrim</td>\n",
       "      <td>play</td>\n",
       "      <td>465.0</td>\n",
       "      <td>115.351792</td>\n",
       "      <td>5</td>\n",
       "    </tr>\n",
       "    <tr>\n",
       "      <th>4</th>\n",
       "      <td>11373749</td>\n",
       "      <td>The Elder Scrolls V Skyrim</td>\n",
       "      <td>play</td>\n",
       "      <td>220.0</td>\n",
       "      <td>115.351792</td>\n",
       "      <td>5</td>\n",
       "    </tr>\n",
       "    <tr>\n",
       "      <th>...</th>\n",
       "      <td>...</td>\n",
       "      <td>...</td>\n",
       "      <td>...</td>\n",
       "      <td>...</td>\n",
       "      <td>...</td>\n",
       "      <td>...</td>\n",
       "    </tr>\n",
       "    <tr>\n",
       "      <th>36415</th>\n",
       "      <td>51822361</td>\n",
       "      <td>Warhammer 40,000 Dawn of War  Soulstorm</td>\n",
       "      <td>play</td>\n",
       "      <td>23.0</td>\n",
       "      <td>14.109091</td>\n",
       "      <td>5</td>\n",
       "    </tr>\n",
       "    <tr>\n",
       "      <th>36416</th>\n",
       "      <td>38317154</td>\n",
       "      <td>Warhammer 40,000 Dawn of War  Soulstorm</td>\n",
       "      <td>play</td>\n",
       "      <td>5.5</td>\n",
       "      <td>14.109091</td>\n",
       "      <td>2</td>\n",
       "    </tr>\n",
       "    <tr>\n",
       "      <th>36417</th>\n",
       "      <td>36404933</td>\n",
       "      <td>Warhammer 40,000 Dawn of War  Soulstorm</td>\n",
       "      <td>play</td>\n",
       "      <td>5.8</td>\n",
       "      <td>14.109091</td>\n",
       "      <td>3</td>\n",
       "    </tr>\n",
       "    <tr>\n",
       "      <th>36418</th>\n",
       "      <td>87201181</td>\n",
       "      <td>Warhammer 40,000 Dawn of War  Soulstorm</td>\n",
       "      <td>play</td>\n",
       "      <td>24.0</td>\n",
       "      <td>14.109091</td>\n",
       "      <td>5</td>\n",
       "    </tr>\n",
       "    <tr>\n",
       "      <th>36419</th>\n",
       "      <td>34901647</td>\n",
       "      <td>Warhammer 40,000 Dawn of War  Soulstorm</td>\n",
       "      <td>play</td>\n",
       "      <td>15.4</td>\n",
       "      <td>14.109091</td>\n",
       "      <td>5</td>\n",
       "    </tr>\n",
       "  </tbody>\n",
       "</table>\n",
       "<p>36420 rows × 6 columns</p>\n",
       "</div>"
      ],
      "text/plain": [
       "         User_ID                                    games Status  Hoursplay  \\\n",
       "0      151603712               The Elder Scrolls V Skyrim   play      273.0   \n",
       "1       59945701               The Elder Scrolls V Skyrim   play       58.0   \n",
       "2       92107940               The Elder Scrolls V Skyrim   play      110.0   \n",
       "3      250006052               The Elder Scrolls V Skyrim   play      465.0   \n",
       "4       11373749               The Elder Scrolls V Skyrim   play      220.0   \n",
       "...          ...                                      ...    ...        ...   \n",
       "36415   51822361  Warhammer 40,000 Dawn of War  Soulstorm   play       23.0   \n",
       "36416   38317154  Warhammer 40,000 Dawn of War  Soulstorm   play        5.5   \n",
       "36417   36404933  Warhammer 40,000 Dawn of War  Soulstorm   play        5.8   \n",
       "36418   87201181  Warhammer 40,000 Dawn of War  Soulstorm   play       24.0   \n",
       "36419   34901647  Warhammer 40,000 Dawn of War  Soulstorm   play       15.4   \n",
       "\n",
       "       avg_Hoursplay  rating  \n",
       "0         115.351792       5  \n",
       "1         115.351792       3  \n",
       "2         115.351792       5  \n",
       "3         115.351792       5  \n",
       "4         115.351792       5  \n",
       "...              ...     ...  \n",
       "36415      14.109091       5  \n",
       "36416      14.109091       2  \n",
       "36417      14.109091       3  \n",
       "36418      14.109091       5  \n",
       "36419      14.109091       5  \n",
       "\n",
       "[36420 rows x 6 columns]"
      ]
     },
     "execution_count": 24,
     "metadata": {},
     "output_type": "execute_result"
    }
   ],
   "source": [
    "# comvert the hoursplay into rating\n",
    "data = data[(data['Hoursplay']>=2) & (data['Status']=='play')]\n",
    "data_filtered = data[data.groupby('games').User_ID.transform(len)>=20]\n",
    "data_filtered['games'].nunique()\n",
    "data_filtered.head(20)\n",
    "data_filtered['User_ID']=data_filtered['User_ID'].astype(str)\n",
    "averages = data_filtered.groupby(['games'],as_index=False).Hoursplay.mean()\n",
    "averages['avg_Hoursplay'] = averages['Hoursplay']\n",
    "averages.drop('Hoursplay',axis=1,inplace=True)\n",
    "final_rating = pd.merge(data_filtered,averages[['games','avg_Hoursplay']],on='games')\n",
    "conditions=[\n",
    "    (final_rating['Hoursplay']>=0.8*final_rating['avg_Hoursplay']),\n",
    "    (final_rating['Hoursplay']>=0.6*final_rating['avg_Hoursplay'])&(final_rating['Hoursplay']<0.8*final_rating['avg_Hoursplay']),\n",
    "    (final_rating['Hoursplay']>=0.4*final_rating['avg_Hoursplay'])&(final_rating['Hoursplay']<0.6*final_rating['avg_Hoursplay']),\n",
    "    (final_rating['Hoursplay']>=0.2*final_rating['avg_Hoursplay'])&(final_rating['Hoursplay']<0.4*final_rating['avg_Hoursplay']),\n",
    "    final_rating['Hoursplay']>=0,\n",
    "]\n",
    "values=[5,4,3,2,1]\n",
    "final_rating['rating'] = np.select(conditions,values)\n",
    "final_rating"
   ]
  },
  {
   "cell_type": "code",
   "execution_count": 25,
   "metadata": {
    "colab": {
     "base_uri": "https://localhost:8080/",
     "height": 423
    },
    "id": "XXBW4xzzZiPv",
    "outputId": "ecc17db9-0d2e-4952-d1a3-ec0d9bb8e5a8"
   },
   "outputs": [
    {
     "data": {
      "text/html": [
       "<div>\n",
       "<style scoped>\n",
       "    .dataframe tbody tr th:only-of-type {\n",
       "        vertical-align: middle;\n",
       "    }\n",
       "\n",
       "    .dataframe tbody tr th {\n",
       "        vertical-align: top;\n",
       "    }\n",
       "\n",
       "    .dataframe thead th {\n",
       "        text-align: right;\n",
       "    }\n",
       "</style>\n",
       "<table border=\"1\" class=\"dataframe\">\n",
       "  <thead>\n",
       "    <tr style=\"text-align: right;\">\n",
       "      <th></th>\n",
       "      <th>User_ID</th>\n",
       "      <th>games</th>\n",
       "      <th>rating</th>\n",
       "    </tr>\n",
       "  </thead>\n",
       "  <tbody>\n",
       "    <tr>\n",
       "      <th>0</th>\n",
       "      <td>151603712</td>\n",
       "      <td>The Elder Scrolls V Skyrim</td>\n",
       "      <td>5</td>\n",
       "    </tr>\n",
       "    <tr>\n",
       "      <th>1</th>\n",
       "      <td>59945701</td>\n",
       "      <td>The Elder Scrolls V Skyrim</td>\n",
       "      <td>3</td>\n",
       "    </tr>\n",
       "    <tr>\n",
       "      <th>2</th>\n",
       "      <td>92107940</td>\n",
       "      <td>The Elder Scrolls V Skyrim</td>\n",
       "      <td>5</td>\n",
       "    </tr>\n",
       "    <tr>\n",
       "      <th>3</th>\n",
       "      <td>250006052</td>\n",
       "      <td>The Elder Scrolls V Skyrim</td>\n",
       "      <td>5</td>\n",
       "    </tr>\n",
       "    <tr>\n",
       "      <th>4</th>\n",
       "      <td>11373749</td>\n",
       "      <td>The Elder Scrolls V Skyrim</td>\n",
       "      <td>5</td>\n",
       "    </tr>\n",
       "    <tr>\n",
       "      <th>...</th>\n",
       "      <td>...</td>\n",
       "      <td>...</td>\n",
       "      <td>...</td>\n",
       "    </tr>\n",
       "    <tr>\n",
       "      <th>36415</th>\n",
       "      <td>51822361</td>\n",
       "      <td>Warhammer 40,000 Dawn of War  Soulstorm</td>\n",
       "      <td>5</td>\n",
       "    </tr>\n",
       "    <tr>\n",
       "      <th>36416</th>\n",
       "      <td>38317154</td>\n",
       "      <td>Warhammer 40,000 Dawn of War  Soulstorm</td>\n",
       "      <td>2</td>\n",
       "    </tr>\n",
       "    <tr>\n",
       "      <th>36417</th>\n",
       "      <td>36404933</td>\n",
       "      <td>Warhammer 40,000 Dawn of War  Soulstorm</td>\n",
       "      <td>3</td>\n",
       "    </tr>\n",
       "    <tr>\n",
       "      <th>36418</th>\n",
       "      <td>87201181</td>\n",
       "      <td>Warhammer 40,000 Dawn of War  Soulstorm</td>\n",
       "      <td>5</td>\n",
       "    </tr>\n",
       "    <tr>\n",
       "      <th>36419</th>\n",
       "      <td>34901647</td>\n",
       "      <td>Warhammer 40,000 Dawn of War  Soulstorm</td>\n",
       "      <td>5</td>\n",
       "    </tr>\n",
       "  </tbody>\n",
       "</table>\n",
       "<p>36420 rows × 3 columns</p>\n",
       "</div>"
      ],
      "text/plain": [
       "         User_ID                                    games  rating\n",
       "0      151603712               The Elder Scrolls V Skyrim       5\n",
       "1       59945701               The Elder Scrolls V Skyrim       3\n",
       "2       92107940               The Elder Scrolls V Skyrim       5\n",
       "3      250006052               The Elder Scrolls V Skyrim       5\n",
       "4       11373749               The Elder Scrolls V Skyrim       5\n",
       "...          ...                                      ...     ...\n",
       "36415   51822361  Warhammer 40,000 Dawn of War  Soulstorm       5\n",
       "36416   38317154  Warhammer 40,000 Dawn of War  Soulstorm       2\n",
       "36417   36404933  Warhammer 40,000 Dawn of War  Soulstorm       3\n",
       "36418   87201181  Warhammer 40,000 Dawn of War  Soulstorm       5\n",
       "36419   34901647  Warhammer 40,000 Dawn of War  Soulstorm       5\n",
       "\n",
       "[36420 rows x 3 columns]"
      ]
     },
     "execution_count": 25,
     "metadata": {},
     "output_type": "execute_result"
    }
   ],
   "source": [
    "# keep only important columns( user_id, games,rating ) drop everthing else \n",
    "final_rating = final_rating.drop(['Status','Hoursplay','avg_Hoursplay'],axis=1)\n",
    "final_rating"
   ]
  },
  {
   "cell_type": "markdown",
   "metadata": {
    "id": "fUuhTgxTvWAL"
   },
   "source": [
    "# MEMORY BASED COLLABORATIVE FILTERING\n",
    "\n",
    "Memory-based algorithms approach the collaborative filtering problem by using the entire database.It tries to find users that are similar to the active user (i.e. the users we want to make predictions for), and uses their preferences to predict ratings for the active user."
   ]
  },
  {
   "cell_type": "code",
   "execution_count": 26,
   "metadata": {
    "id": "Ldaj40pJc5Lr"
   },
   "outputs": [],
   "source": [
    "#import pairwise_distances, cosine, corelation\n",
    "from sklearn.metrics.pairwise import pairwise_distances\n",
    "from scipy.spatial.distance import cosine,correlation"
   ]
  },
  {
   "cell_type": "code",
   "execution_count": 28,
   "metadata": {
    "id": "J8C5ykDCUbQe"
   },
   "outputs": [],
   "source": [
    "# create pivot table containing user_id as index, games as columns, ratings as values\n",
    "piv = final_rating.pivot_table(index=['User_ID'],columns=['games'],values='rating')\n"
   ]
  },
  {
   "cell_type": "code",
   "execution_count": 29,
   "metadata": {
    "colab": {
     "base_uri": "https://localhost:8080/",
     "height": 391
    },
    "id": "Lbgw7l06UbOx",
    "outputId": "5e9053fd-1c01-46e8-cd5a-e5cfeea1ab45"
   },
   "outputs": [
    {
     "name": "stdout",
     "output_type": "stream",
     "text": [
      "(8309, 427)\n"
     ]
    },
    {
     "data": {
      "text/html": [
       "<div>\n",
       "<style scoped>\n",
       "    .dataframe tbody tr th:only-of-type {\n",
       "        vertical-align: middle;\n",
       "    }\n",
       "\n",
       "    .dataframe tbody tr th {\n",
       "        vertical-align: top;\n",
       "    }\n",
       "\n",
       "    .dataframe thead th {\n",
       "        text-align: right;\n",
       "    }\n",
       "</style>\n",
       "<table border=\"1\" class=\"dataframe\">\n",
       "  <thead>\n",
       "    <tr style=\"text-align: right;\">\n",
       "      <th>games</th>\n",
       "      <th>7 Days to Die</th>\n",
       "      <th>APB Reloaded</th>\n",
       "      <th>ARK Survival Evolved</th>\n",
       "      <th>Ace of Spades</th>\n",
       "      <th>AdVenture Capitalist</th>\n",
       "      <th>Aftermath</th>\n",
       "      <th>Age of Chivalry</th>\n",
       "      <th>Age of Empires II HD Edition</th>\n",
       "      <th>Age of Empires III Complete Collection</th>\n",
       "      <th>Age of Mythology Extended Edition</th>\n",
       "      <th>...</th>\n",
       "      <th>Warhammer 40,000 Dawn of War II - Chaos Rising</th>\n",
       "      <th>Warhammer 40,000 Space Marine</th>\n",
       "      <th>Wasteland 2</th>\n",
       "      <th>Watch_Dogs</th>\n",
       "      <th>Wolfenstein The New Order</th>\n",
       "      <th>Worms Reloaded</th>\n",
       "      <th>Worms Revolution</th>\n",
       "      <th>XCOM Enemy Unknown</th>\n",
       "      <th>Zombie Panic Source</th>\n",
       "      <th>theHunter</th>\n",
       "    </tr>\n",
       "    <tr>\n",
       "      <th>User_ID</th>\n",
       "      <th></th>\n",
       "      <th></th>\n",
       "      <th></th>\n",
       "      <th></th>\n",
       "      <th></th>\n",
       "      <th></th>\n",
       "      <th></th>\n",
       "      <th></th>\n",
       "      <th></th>\n",
       "      <th></th>\n",
       "      <th></th>\n",
       "      <th></th>\n",
       "      <th></th>\n",
       "      <th></th>\n",
       "      <th></th>\n",
       "      <th></th>\n",
       "      <th></th>\n",
       "      <th></th>\n",
       "      <th></th>\n",
       "      <th></th>\n",
       "      <th></th>\n",
       "    </tr>\n",
       "  </thead>\n",
       "  <tbody>\n",
       "    <tr>\n",
       "      <th>100053304</th>\n",
       "      <td>NaN</td>\n",
       "      <td>NaN</td>\n",
       "      <td>NaN</td>\n",
       "      <td>NaN</td>\n",
       "      <td>NaN</td>\n",
       "      <td>NaN</td>\n",
       "      <td>NaN</td>\n",
       "      <td>NaN</td>\n",
       "      <td>NaN</td>\n",
       "      <td>NaN</td>\n",
       "      <td>...</td>\n",
       "      <td>NaN</td>\n",
       "      <td>NaN</td>\n",
       "      <td>NaN</td>\n",
       "      <td>NaN</td>\n",
       "      <td>NaN</td>\n",
       "      <td>NaN</td>\n",
       "      <td>NaN</td>\n",
       "      <td>NaN</td>\n",
       "      <td>NaN</td>\n",
       "      <td>NaN</td>\n",
       "    </tr>\n",
       "    <tr>\n",
       "      <th>100057229</th>\n",
       "      <td>NaN</td>\n",
       "      <td>NaN</td>\n",
       "      <td>NaN</td>\n",
       "      <td>NaN</td>\n",
       "      <td>NaN</td>\n",
       "      <td>NaN</td>\n",
       "      <td>NaN</td>\n",
       "      <td>NaN</td>\n",
       "      <td>NaN</td>\n",
       "      <td>NaN</td>\n",
       "      <td>...</td>\n",
       "      <td>NaN</td>\n",
       "      <td>NaN</td>\n",
       "      <td>NaN</td>\n",
       "      <td>NaN</td>\n",
       "      <td>NaN</td>\n",
       "      <td>NaN</td>\n",
       "      <td>NaN</td>\n",
       "      <td>NaN</td>\n",
       "      <td>NaN</td>\n",
       "      <td>NaN</td>\n",
       "    </tr>\n",
       "    <tr>\n",
       "      <th>100070732</th>\n",
       "      <td>NaN</td>\n",
       "      <td>NaN</td>\n",
       "      <td>NaN</td>\n",
       "      <td>NaN</td>\n",
       "      <td>NaN</td>\n",
       "      <td>NaN</td>\n",
       "      <td>NaN</td>\n",
       "      <td>NaN</td>\n",
       "      <td>NaN</td>\n",
       "      <td>NaN</td>\n",
       "      <td>...</td>\n",
       "      <td>NaN</td>\n",
       "      <td>NaN</td>\n",
       "      <td>NaN</td>\n",
       "      <td>NaN</td>\n",
       "      <td>NaN</td>\n",
       "      <td>NaN</td>\n",
       "      <td>NaN</td>\n",
       "      <td>NaN</td>\n",
       "      <td>NaN</td>\n",
       "      <td>NaN</td>\n",
       "    </tr>\n",
       "    <tr>\n",
       "      <th>100096071</th>\n",
       "      <td>NaN</td>\n",
       "      <td>NaN</td>\n",
       "      <td>NaN</td>\n",
       "      <td>NaN</td>\n",
       "      <td>NaN</td>\n",
       "      <td>NaN</td>\n",
       "      <td>NaN</td>\n",
       "      <td>NaN</td>\n",
       "      <td>NaN</td>\n",
       "      <td>NaN</td>\n",
       "      <td>...</td>\n",
       "      <td>NaN</td>\n",
       "      <td>NaN</td>\n",
       "      <td>NaN</td>\n",
       "      <td>NaN</td>\n",
       "      <td>NaN</td>\n",
       "      <td>NaN</td>\n",
       "      <td>NaN</td>\n",
       "      <td>NaN</td>\n",
       "      <td>NaN</td>\n",
       "      <td>NaN</td>\n",
       "    </tr>\n",
       "    <tr>\n",
       "      <th>100168166</th>\n",
       "      <td>NaN</td>\n",
       "      <td>NaN</td>\n",
       "      <td>NaN</td>\n",
       "      <td>NaN</td>\n",
       "      <td>NaN</td>\n",
       "      <td>NaN</td>\n",
       "      <td>NaN</td>\n",
       "      <td>NaN</td>\n",
       "      <td>NaN</td>\n",
       "      <td>NaN</td>\n",
       "      <td>...</td>\n",
       "      <td>NaN</td>\n",
       "      <td>NaN</td>\n",
       "      <td>NaN</td>\n",
       "      <td>NaN</td>\n",
       "      <td>NaN</td>\n",
       "      <td>NaN</td>\n",
       "      <td>NaN</td>\n",
       "      <td>NaN</td>\n",
       "      <td>NaN</td>\n",
       "      <td>NaN</td>\n",
       "    </tr>\n",
       "  </tbody>\n",
       "</table>\n",
       "<p>5 rows × 427 columns</p>\n",
       "</div>"
      ],
      "text/plain": [
       "games      7 Days to Die  APB Reloaded  ARK Survival Evolved  Ace of Spades  \\\n",
       "User_ID                                                                       \n",
       "100053304            NaN           NaN                   NaN            NaN   \n",
       "100057229            NaN           NaN                   NaN            NaN   \n",
       "100070732            NaN           NaN                   NaN            NaN   \n",
       "100096071            NaN           NaN                   NaN            NaN   \n",
       "100168166            NaN           NaN                   NaN            NaN   \n",
       "\n",
       "games      AdVenture Capitalist  Aftermath  Age of Chivalry  \\\n",
       "User_ID                                                       \n",
       "100053304                   NaN        NaN              NaN   \n",
       "100057229                   NaN        NaN              NaN   \n",
       "100070732                   NaN        NaN              NaN   \n",
       "100096071                   NaN        NaN              NaN   \n",
       "100168166                   NaN        NaN              NaN   \n",
       "\n",
       "games      Age of Empires II HD Edition  \\\n",
       "User_ID                                   \n",
       "100053304                           NaN   \n",
       "100057229                           NaN   \n",
       "100070732                           NaN   \n",
       "100096071                           NaN   \n",
       "100168166                           NaN   \n",
       "\n",
       "games      Age of Empires III Complete Collection  \\\n",
       "User_ID                                             \n",
       "100053304                                     NaN   \n",
       "100057229                                     NaN   \n",
       "100070732                                     NaN   \n",
       "100096071                                     NaN   \n",
       "100168166                                     NaN   \n",
       "\n",
       "games      Age of Mythology Extended Edition  ...  \\\n",
       "User_ID                                       ...   \n",
       "100053304                                NaN  ...   \n",
       "100057229                                NaN  ...   \n",
       "100070732                                NaN  ...   \n",
       "100096071                                NaN  ...   \n",
       "100168166                                NaN  ...   \n",
       "\n",
       "games      Warhammer 40,000 Dawn of War II - Chaos Rising  \\\n",
       "User_ID                                                     \n",
       "100053304                                             NaN   \n",
       "100057229                                             NaN   \n",
       "100070732                                             NaN   \n",
       "100096071                                             NaN   \n",
       "100168166                                             NaN   \n",
       "\n",
       "games      Warhammer 40,000 Space Marine  Wasteland 2  Watch_Dogs  \\\n",
       "User_ID                                                             \n",
       "100053304                            NaN          NaN         NaN   \n",
       "100057229                            NaN          NaN         NaN   \n",
       "100070732                            NaN          NaN         NaN   \n",
       "100096071                            NaN          NaN         NaN   \n",
       "100168166                            NaN          NaN         NaN   \n",
       "\n",
       "games      Wolfenstein The New Order  Worms Reloaded  Worms Revolution  \\\n",
       "User_ID                                                                  \n",
       "100053304                        NaN             NaN               NaN   \n",
       "100057229                        NaN             NaN               NaN   \n",
       "100070732                        NaN             NaN               NaN   \n",
       "100096071                        NaN             NaN               NaN   \n",
       "100168166                        NaN             NaN               NaN   \n",
       "\n",
       "games      XCOM Enemy Unknown  Zombie Panic Source  theHunter  \n",
       "User_ID                                                        \n",
       "100053304                 NaN                  NaN        NaN  \n",
       "100057229                 NaN                  NaN        NaN  \n",
       "100070732                 NaN                  NaN        NaN  \n",
       "100096071                 NaN                  NaN        NaN  \n",
       "100168166                 NaN                  NaN        NaN  \n",
       "\n",
       "[5 rows x 427 columns]"
      ]
     },
     "execution_count": 29,
     "metadata": {},
     "output_type": "execute_result"
    }
   ],
   "source": [
    "#check shape of pivot table\n",
    "print(piv.shape)\n",
    "#check first five rows of pivot table\n",
    "piv.head()"
   ]
  },
  {
   "cell_type": "code",
   "execution_count": 31,
   "metadata": {
    "id": "Ms7p71YdUbLU"
   },
   "outputs": [],
   "source": [
    "## Note: As we are subtracting the mean from each rating to standardize\n",
    "##all users with only one rating or who had rated everything the same will be dropped\n",
    "# Normalize the values in pivot table\n",
    "piv_norm = piv.apply(lambda x: (x-np.mean(x))/(np.max(x)-np.min(x)),axis=1)\n",
    "\n",
    "\n",
    "# Drop all columns containing only zeros representing users who did not rate\n",
    "piv_norm.fillna(0,inplace=True)\n",
    "piv_norm =piv_norm.T\n",
    "piv_norm =piv_norm.loc[:,(piv_norm !=0).any(axis=0)]"
   ]
  },
  {
   "cell_type": "code",
   "execution_count": 32,
   "metadata": {
    "id": "inXGLPRdVJ5-"
   },
   "outputs": [],
   "source": [
    "# import scipy, operator\n",
    "import scipy as sp\n",
    "import operator\n",
    "from sklearn.metrics.pairwise import cosine_similarity"
   ]
  },
  {
   "cell_type": "code",
   "execution_count": 33,
   "metadata": {
    "id": "xpsBIdLbUbJn"
   },
   "outputs": [],
   "source": [
    "# convert the data into sparse matrix format to be read by the following functions\n",
    "piv_sparse = sp.sparse.csr_matrix(piv_norm.values)\n"
   ]
  },
  {
   "cell_type": "code",
   "execution_count": 34,
   "metadata": {
    "id": "161las8mUbGe"
   },
   "outputs": [],
   "source": [
    "# create matrices to show the computed cosine similarity values between each user/user array pair and item/item array pair.\n",
    "item_similarity = cosine_similarity(piv_sparse)\n",
    "\n",
    "user_similarity = cosine_similarity(piv_sparse.T)"
   ]
  },
  {
   "cell_type": "code",
   "execution_count": 36,
   "metadata": {
    "id": "JWrYUdrCUbEu"
   },
   "outputs": [],
   "source": [
    "# Inserting the similarity matricies into dataframe objects\n",
    "item_sim_df = pd.DataFrame(item_similarity,index=piv_norm.index,columns=piv_norm.index)\n",
    "#item similarity dataframe\n",
    "\n",
    "#user similarity dataframe\n",
    "user_sim_df = pd.DataFrame(user_similarity,index=piv_norm.columns,columns=piv_norm.columns)\n"
   ]
  },
  {
   "cell_type": "code",
   "execution_count": 37,
   "metadata": {
    "id": "VBSl_QsTUbCh"
   },
   "outputs": [],
   "source": [
    "# write a function which will return the top 10 games with the highest cosine similarity value\n",
    "def top_game(game):\n",
    "    count = 1\n",
    "    print('Similar game to {} include:\\n '.format(game))\n",
    "    for item in item_sim_df.sort_values(by= game,ascending=False).index[1:11]:\n",
    "        print('No. {}: {}'.format(count,item)) \n",
    "        count += 1"
   ]
  },
  {
   "cell_type": "code",
   "execution_count": 38,
   "metadata": {
    "colab": {
     "base_uri": "https://localhost:8080/"
    },
    "id": "JZ3vQNUQUbA9",
    "outputId": "e7141b30-85f0-4de8-feec-4a1820950704"
   },
   "outputs": [
    {
     "name": "stdout",
     "output_type": "stream",
     "text": [
      "Similar game to Aftermath include:\n",
      " \n",
      "No. 1: Alice Madness Returns\n",
      "No. 2: Shadow Warrior\n",
      "No. 3: Brtal Legend\n",
      "No. 4: Resident Evil 5 / Biohazard 5\n",
      "No. 5: Infestation Survivor Stories\n",
      "No. 6: Call of Juarez Gunslinger\n",
      "No. 7: The Walking Dead Season Two\n",
      "No. 8: Counter-Strike Nexon Zombies\n",
      "No. 9: Star Conflict\n",
      "No. 10: L.A. Noire\n"
     ]
    }
   ],
   "source": [
    "top_game('Aftermath')"
   ]
  },
  {
   "cell_type": "code",
   "execution_count": 39,
   "metadata": {
    "colab": {
     "base_uri": "https://localhost:8080/"
    },
    "id": "0v0_2KKkW6BN",
    "outputId": "4e1e2aa5-42fe-4e8f-ed19-b175b32f2b41"
   },
   "outputs": [
    {
     "data": {
      "text/plain": [
       "Index(['100057229', '100096071', '100311267', '100322840', '100351493',\n",
       "       '100359523', '100431715', '100444456', '100519466', '100630947',\n",
       "       ...\n",
       "       '994489', '9946133', '99484728', '99640715', '99704390', '99711581',\n",
       "       '99713453', '99723205', '99766416', '99802512'],\n",
       "      dtype='object', name='User_ID', length=3056)"
      ]
     },
     "execution_count": 39,
     "metadata": {},
     "output_type": "execute_result"
    }
   ],
   "source": [
    "# check the column of pivot table\n",
    "piv_norm.columns"
   ]
  },
  {
   "cell_type": "code",
   "execution_count": 40,
   "metadata": {
    "id": "U6_RWwwWUa_b"
   },
   "outputs": [],
   "source": [
    "# write a function which will return the top 5 users with the highest similarity value \n",
    "def top_users(user):\n",
    "    if user not in piv_norm.columns:\n",
    "        return('No data available on user {}'.format(user))\n",
    "    print('Most similar usera:\\n')\n",
    "    sim_values = user_sim_df.sort_values(by=user,ascending=False).loc[:,user].tolist()[1:11]\n",
    "    sim_users = user_sim_df.sort_values(by=user,ascending=False).index[1:11]\n",
    "    zipped = zip(sim_users,sim_values)\n",
    "    for user,sim in zipped:\n",
    "        print('User #{0}, Similarity values: {1:.2f}'.format(user,sim))\n",
    "\n"
   ]
  },
  {
   "cell_type": "code",
   "execution_count": 42,
   "metadata": {
    "colab": {
     "base_uri": "https://localhost:8080/"
    },
    "id": "zgwURJjDUa84",
    "outputId": "9809d7dc-27bf-40af-a5fb-86682767dc5b"
   },
   "outputs": [
    {
     "name": "stdout",
     "output_type": "stream",
     "text": [
      "Most similar usera:\n",
      "\n",
      "User #40289887, Similarity values: 0.73\n",
      "User #185494712, Similarity values: 0.71\n",
      "User #16710264, Similarity values: 0.71\n",
      "User #20566124, Similarity values: 0.67\n",
      "User #49769103, Similarity values: 0.67\n",
      "User #15702351, Similarity values: 0.65\n",
      "User #161139120, Similarity values: 0.59\n",
      "User #202057920, Similarity values: 0.58\n",
      "User #57271785, Similarity values: 0.58\n",
      "User #33993318, Similarity values: 0.58\n"
     ]
    }
   ],
   "source": [
    "top_users('99484728')"
   ]
  },
  {
   "cell_type": "code",
   "execution_count": 55,
   "metadata": {
    "id": "Ucy6tuedUa6N"
   },
   "outputs": [],
   "source": [
    "# write a function which constructs a list of lists containing the highest rated games per similar user\n",
    "# and returns the name of the game along with the frequency it appears in the list\n",
    "def similar_user_recs(user):\n",
    "    if user not in piv_norm.columns:\n",
    "        return('No data available on user {}'.format(user))\n",
    "    sim_users = user_sim_df.sort_values(by=user,ascending=False).index[1:11]\n",
    "    best=[]\n",
    "    most_common={}\n",
    "    for i in sim_users:\n",
    "        max_score= piv_norm.loc[:,i].max()\n",
    "    best.append(piv_norm[piv_norm.loc[:,i]==max_score].index.tolist())\n",
    "    for i in range(len(best)):\n",
    "        for j in best[i]:\n",
    "            if j in most_common:\n",
    "                most_common[j] +=1\n",
    "            else:\n",
    "                most_common[j] =1\n",
    "    sorted_list = sorted(most_common.items(),key=operator.itemgetter(1),reverse=True)\n",
    "    return sorted_list[:5]"
   ]
  },
  {
   "cell_type": "code",
   "execution_count": 56,
   "metadata": {
    "colab": {
     "base_uri": "https://localhost:8080/"
    },
    "id": "ewOZTTgYUa4E",
    "outputId": "8abe8bca-1398-4183-f90b-594cc66d201d"
   },
   "outputs": [
    {
     "data": {
      "text/plain": [
       "[('Robocraft', 1)]"
      ]
     },
     "execution_count": 56,
     "metadata": {},
     "output_type": "execute_result"
    }
   ],
   "source": [
    "similar_user_recs('100519466')\n"
   ]
  },
  {
   "cell_type": "markdown",
   "metadata": {
    "id": "B-gp2ijmu1aS"
   },
   "source": [
    "# COLLABORATIVE FILTERING USING KNN\n",
    "\n",
    "Collaborative Filtering Using k-Nearest Neighbors (kNN). kNN is a machine learning algorithm to find clusters of similar users based on common ratings, and make predictions using the average rating of top-k nearest neighbors.\n",
    "\n",
    "https://datascienceplus.com/building-a-book-recommender-system-the-basics-knn-and-matrix-factorization/"
   ]
  },
  {
   "cell_type": "code",
   "execution_count": 57,
   "metadata": {
    "colab": {
     "base_uri": "https://localhost:8080/"
    },
    "id": "t1gOIvynUaxv",
    "outputId": "4c420faf-f57e-4411-b130-bfa0fccb61cc"
   },
   "outputs": [
    {
     "data": {
      "text/html": [
       "<style>#sk-container-id-1 {color: black;background-color: white;}#sk-container-id-1 pre{padding: 0;}#sk-container-id-1 div.sk-toggleable {background-color: white;}#sk-container-id-1 label.sk-toggleable__label {cursor: pointer;display: block;width: 100%;margin-bottom: 0;padding: 0.3em;box-sizing: border-box;text-align: center;}#sk-container-id-1 label.sk-toggleable__label-arrow:before {content: \"▸\";float: left;margin-right: 0.25em;color: #696969;}#sk-container-id-1 label.sk-toggleable__label-arrow:hover:before {color: black;}#sk-container-id-1 div.sk-estimator:hover label.sk-toggleable__label-arrow:before {color: black;}#sk-container-id-1 div.sk-toggleable__content {max-height: 0;max-width: 0;overflow: hidden;text-align: left;background-color: #f0f8ff;}#sk-container-id-1 div.sk-toggleable__content pre {margin: 0.2em;color: black;border-radius: 0.25em;background-color: #f0f8ff;}#sk-container-id-1 input.sk-toggleable__control:checked~div.sk-toggleable__content {max-height: 200px;max-width: 100%;overflow: auto;}#sk-container-id-1 input.sk-toggleable__control:checked~label.sk-toggleable__label-arrow:before {content: \"▾\";}#sk-container-id-1 div.sk-estimator input.sk-toggleable__control:checked~label.sk-toggleable__label {background-color: #d4ebff;}#sk-container-id-1 div.sk-label input.sk-toggleable__control:checked~label.sk-toggleable__label {background-color: #d4ebff;}#sk-container-id-1 input.sk-hidden--visually {border: 0;clip: rect(1px 1px 1px 1px);clip: rect(1px, 1px, 1px, 1px);height: 1px;margin: -1px;overflow: hidden;padding: 0;position: absolute;width: 1px;}#sk-container-id-1 div.sk-estimator {font-family: monospace;background-color: #f0f8ff;border: 1px dotted black;border-radius: 0.25em;box-sizing: border-box;margin-bottom: 0.5em;}#sk-container-id-1 div.sk-estimator:hover {background-color: #d4ebff;}#sk-container-id-1 div.sk-parallel-item::after {content: \"\";width: 100%;border-bottom: 1px solid gray;flex-grow: 1;}#sk-container-id-1 div.sk-label:hover label.sk-toggleable__label {background-color: #d4ebff;}#sk-container-id-1 div.sk-serial::before {content: \"\";position: absolute;border-left: 1px solid gray;box-sizing: border-box;top: 0;bottom: 0;left: 50%;z-index: 0;}#sk-container-id-1 div.sk-serial {display: flex;flex-direction: column;align-items: center;background-color: white;padding-right: 0.2em;padding-left: 0.2em;position: relative;}#sk-container-id-1 div.sk-item {position: relative;z-index: 1;}#sk-container-id-1 div.sk-parallel {display: flex;align-items: stretch;justify-content: center;background-color: white;position: relative;}#sk-container-id-1 div.sk-item::before, #sk-container-id-1 div.sk-parallel-item::before {content: \"\";position: absolute;border-left: 1px solid gray;box-sizing: border-box;top: 0;bottom: 0;left: 50%;z-index: -1;}#sk-container-id-1 div.sk-parallel-item {display: flex;flex-direction: column;z-index: 1;position: relative;background-color: white;}#sk-container-id-1 div.sk-parallel-item:first-child::after {align-self: flex-end;width: 50%;}#sk-container-id-1 div.sk-parallel-item:last-child::after {align-self: flex-start;width: 50%;}#sk-container-id-1 div.sk-parallel-item:only-child::after {width: 0;}#sk-container-id-1 div.sk-dashed-wrapped {border: 1px dashed gray;margin: 0 0.4em 0.5em 0.4em;box-sizing: border-box;padding-bottom: 0.4em;background-color: white;}#sk-container-id-1 div.sk-label label {font-family: monospace;font-weight: bold;display: inline-block;line-height: 1.2em;}#sk-container-id-1 div.sk-label-container {text-align: center;}#sk-container-id-1 div.sk-container {/* jupyter's `normalize.less` sets `[hidden] { display: none; }` but bootstrap.min.css set `[hidden] { display: none !important; }` so we also need the `!important` here to be able to override the default hidden behavior on the sphinx rendered scikit-learn.org. See: https://github.com/scikit-learn/scikit-learn/issues/21755 */display: inline-block !important;position: relative;}#sk-container-id-1 div.sk-text-repr-fallback {display: none;}</style><div id=\"sk-container-id-1\" class=\"sk-top-container\"><div class=\"sk-text-repr-fallback\"><pre>NearestNeighbors(algorithm=&#x27;brute&#x27;, metric=&#x27;cosine&#x27;, n_jobs=-1, n_neighbors=20)</pre><b>In a Jupyter environment, please rerun this cell to show the HTML representation or trust the notebook. <br />On GitHub, the HTML representation is unable to render, please try loading this page with nbviewer.org.</b></div><div class=\"sk-container\" hidden><div class=\"sk-item\"><div class=\"sk-estimator sk-toggleable\"><input class=\"sk-toggleable__control sk-hidden--visually\" id=\"sk-estimator-id-1\" type=\"checkbox\" checked><label for=\"sk-estimator-id-1\" class=\"sk-toggleable__label sk-toggleable__label-arrow\">NearestNeighbors</label><div class=\"sk-toggleable__content\"><pre>NearestNeighbors(algorithm=&#x27;brute&#x27;, metric=&#x27;cosine&#x27;, n_jobs=-1, n_neighbors=20)</pre></div></div></div></div></div>"
      ],
      "text/plain": [
       "NearestNeighbors(algorithm='brute', metric='cosine', n_jobs=-1, n_neighbors=20)"
      ]
     },
     "execution_count": 57,
     "metadata": {},
     "output_type": "execute_result"
    }
   ],
   "source": [
    "# import NearestNeighbors\n",
    "from sklearn.neighbors import  NearestNeighbors\n",
    "#make an object for the NearestNeighbors Class.\n",
    "model_knn = NearestNeighbors(metric='cosine',algorithm='brute',n_neighbors=20,n_jobs=-1)\n",
    "# fit the dataset\n",
    "model_knn.fit(piv_norm)"
   ]
  },
  {
   "cell_type": "markdown",
   "metadata": {
    "id": "DUQpiGdRFP6w"
   },
   "source": [
    "\n",
    "Test model and make some recommendations:"
   ]
  },
  {
   "cell_type": "code",
   "execution_count": 62,
   "metadata": {
    "colab": {
     "base_uri": "https://localhost:8080/"
    },
    "id": "lYoqkJefFujG",
    "outputId": "8250f7c2-0fd6-48e7-8ca8-7f0a648843f5"
   },
   "outputs": [
    {
     "name": "stdout",
     "output_type": "stream",
     "text": [
      "Choosen game is:  Rocket League\n",
      "Recommendations for Rocket League: \n",
      "\n",
      "1: Batman Arkham Origins, with distance of 0.9057328702328387:\n",
      "2: DiRT 2, with distance of 0.9069995369482811:\n",
      "3: Grand Theft Auto IV, with distance of 0.9190749977128095:\n",
      "4: Battlefield Bad Company 2, with distance of 0.9260218729643377:\n",
      "5: Scribblenauts Unlimited, with distance of 0.9289358897274886:\n"
     ]
    },
    {
     "name": "stderr",
     "output_type": "stream",
     "text": [
      "c:\\Users\\HP\\AppData\\Local\\Programs\\Python\\Python311\\Lib\\site-packages\\sklearn\\base.py:409: UserWarning: X does not have valid feature names, but NearestNeighbors was fitted with feature names\n",
      "  warnings.warn(\n"
     ]
    }
   ],
   "source": [
    "# choose random game\n",
    "query_index=np.random.choice(piv_norm.shape[0])\n",
    "# print the name of random game\n",
    "print('Choosen game is: ',piv_norm.index[query_index])\n",
    "\n",
    "# use kNN algorithm to measures distance to determine the closeness of instances.\n",
    "distances,indices = model_knn.kneighbors(piv_norm.iloc[query_index,:].values.reshape(1,-1),n_neighbors=6)\n",
    "\n",
    "# pick most popular games among the neighbors and print their names\n",
    "for i in range(0,len(distances.flatten())):\n",
    "    if i == 0:\n",
    "        print('Recommendations for {}: \\n'.format(piv_norm.index[query_index]))\n",
    "    else:\n",
    "        print('{0}: {1}, with distance of {2}:'.format(i,piv_norm.index[indices.flatten()[i]],distances.flatten()[i]))"
   ]
  },
  {
   "cell_type": "markdown",
   "metadata": {
    "id": "qQdGSocKKfYP"
   },
   "source": [
    "#Conclusion\n",
    "\n",
    "We can use different different methods based on our problem statement and dataset. Here we used collaborative filtering technique to recommend games.We can use this method to recommend alot of other things as well such as music, movies, books, news etc. "
   ]
  },
  {
   "cell_type": "markdown",
   "metadata": {
    "id": "fOAgBtYiKYlK"
   },
   "source": [
    "#Congratulation for completing the assignment.\n",
    "You have learned a lot while doing this assignment.\n",
    "\n"
   ]
  }
 ],
 "metadata": {
  "colab": {
   "collapsed_sections": [],
   "name": "steam video game.ipynb",
   "provenance": []
  },
  "kernelspec": {
   "display_name": "Python 3",
   "language": "python",
   "name": "python3"
  },
  "language_info": {
   "codemirror_mode": {
    "name": "ipython",
    "version": 3
   },
   "file_extension": ".py",
   "mimetype": "text/x-python",
   "name": "python",
   "nbconvert_exporter": "python",
   "pygments_lexer": "ipython3",
   "version": "3.11.0"
  },
  "vscode": {
   "interpreter": {
    "hash": "1f6a27bcfbe46a917dbd192f4a82657396dda26148bae633192e8d28c70725f1"
   }
  }
 },
 "nbformat": 4,
 "nbformat_minor": 1
}
